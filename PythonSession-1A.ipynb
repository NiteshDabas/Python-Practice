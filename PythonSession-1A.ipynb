{
 "cells": [
  {
   "cell_type": "markdown",
   "metadata": {},
   "source": [
    "# Python Session - 1A"
   ]
  },
  {
   "cell_type": "markdown",
   "metadata": {},
   "source": [
    "## Print the number of lines in a document"
   ]
  },
  {
   "cell_type": "code",
   "execution_count": 3,
   "metadata": {},
   "outputs": [
    {
     "name": "stdout",
     "output_type": "stream",
     "text": [
      "  % Total    % Received % Xferd  Average Speed   Time    Time     Time  Current\n",
      "                                 Dload  Upload   Total   Spent    Left  Speed\n",
      "100  789k    0  789k    0     0   455k      0 --:--:--  0:00:01 --:--:--  454k\n",
      "13444\n"
     ]
    }
   ],
   "source": [
    "# Download the file at http://classics.mit.edu/Homer/iliad.mb.txt\n",
    "!curl http://classics.mit.edu/Homer/iliad.mb.txt -o ./iliad.txt\n",
    "    \n",
    "# Store file in variable\n",
    "my_filepath = \"iliad.txt\"\n",
    "\n",
    "# Create a function to count lines in the text file\n",
    "def nb_lines(my_filepath):\n",
    "    with open(my_filepath,\"r\") as my_file: #\"with\" creates a scope and ensures that the file is closed\n",
    "        my_file_length = len(my_file.readlines())\n",
    "    return(my_file_length)\n",
    "print(nb_lines(my_filepath))"
   ]
  },
  {
   "cell_type": "markdown",
   "metadata": {},
   "source": [
    "## Print the number of words in each line of a data file"
   ]
  },
  {
   "cell_type": "code",
   "execution_count": 8,
   "metadata": {},
   "outputs": [
    {
     "name": "stdout",
     "output_type": "stream",
     "text": [
      "  % Total    % Received % Xferd  Average Speed   Time    Time     Time  Current\n",
      "                                 Dload  Upload   Total   Spent    Left  Speed\n",
      "100  4551  100  4551    0     0   3978      0  0:00:01  0:00:01 --:--:--  3978\n",
      "151\n",
      "151\n"
     ]
    },
    {
     "data": {
      "text/plain": [
       "True"
      ]
     },
     "execution_count": 8,
     "metadata": {},
     "output_type": "execute_result"
    }
   ],
   "source": [
    "# Download the file at https://archive.ics.uci.edu/ml/machine-learning-databases/iris/iris.data\n",
    "!curl https://archive.ics.uci.edu/ml/machine-learning-databases/iris/iris.data -o iris.data\n",
    "\n",
    "# Store file in variable\n",
    "iris_file = \"iris.data\"\n",
    "    \n",
    "# Check the number of lines\n",
    "print(nb_lines(iris_file))\n",
    "\n",
    "# Create a function which will only read the number of lines of files with extension .data\n",
    "def nb_lines_data(filename):\n",
    "    res_length = 0\n",
    "    if filename.endswith(\".data\"):\n",
    "        with open(filename,\"r\") as my_file:\n",
    "            res_length = len(my_file.readlines())\n",
    "    else:\n",
    "        print(\"Wrong file extension. Please choose another file.\")\n",
    "    return(res_length)\n",
    "print(nb_lines_data(\"iris.data\"))\n",
    "\n",
    "# Create a function to count the number of words in each line of the file\n",
    "def nb_words(my_filepath):\n",
    "    res_line = []\n",
    "    number_of_words = []\n",
    "    with open(my_filepath,\"r\") as my_file:\n",
    "        res_line = my_file.readlines()\n",
    "    for my_line in res_line:\n",
    "        number_of_words.append(len(my_line.split(\" \")))\n",
    "    return(number_of_words)\n",
    "\n",
    "my_lines = nb_lines(my_filepath)\n",
    "my_words = nb_words(my_filepath)\n",
    "my_lines == len(my_words)"
   ]
  }
 ],
 "metadata": {
  "kernelspec": {
   "display_name": "Python 3",
   "language": "python",
   "name": "python3"
  },
  "language_info": {
   "codemirror_mode": {
    "name": "ipython",
    "version": 3
   },
   "file_extension": ".py",
   "mimetype": "text/x-python",
   "name": "python",
   "nbconvert_exporter": "python",
   "pygments_lexer": "ipython3",
   "version": "3.7.7"
  }
 },
 "nbformat": 4,
 "nbformat_minor": 4
}
